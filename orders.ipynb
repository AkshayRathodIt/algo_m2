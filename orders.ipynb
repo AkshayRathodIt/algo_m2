{
 "cells": [
  {
   "cell_type": "code",
   "execution_count": 52,
   "metadata": {},
   "outputs": [],
   "source": [
    "import pandas as pd\n",
    "import os"
   ]
  },
  {
   "cell_type": "code",
   "execution_count": 53,
   "metadata": {},
   "outputs": [],
   "source": [
    "from main_2 import main\n",
    "from fyers_api_algo.funds_data import funds_info"
   ]
  },
  {
   "cell_type": "code",
   "execution_count": 58,
   "metadata": {},
   "outputs": [
    {
     "name": "stdout",
     "output_type": "stream",
     "text": [
      "if block no new tokan\n"
     ]
    }
   ],
   "source": [
    "credential = main()"
   ]
  },
  {
   "cell_type": "code",
   "execution_count": 59,
   "metadata": {},
   "outputs": [],
   "source": [
    "access_tokan =credential[0]"
   ]
  },
  {
   "cell_type": "code",
   "execution_count": 60,
   "metadata": {},
   "outputs": [],
   "source": [
    "client_id =credential[1]"
   ]
  },
  {
   "cell_type": "code",
   "execution_count": 61,
   "metadata": {},
   "outputs": [
    {
     "data": {
      "text/plain": [
       "'eyJ0eXAiOiJKV1QiLCJhbGciOiJIUzI1NiJ9.eyJpc3MiOiJhcGkuZnllcnMuaW4iLCJpYXQiOjE3MDYwODM2NjMsImV4cCI6MTcwNjE0MjY0MywibmJmIjoxNzA2MDgzNjYzLCJhdWQiOlsieDowIiwieDoxIiwieDoyIiwiZDoxIiwiZDoyIiwieDoxIiwieDowIl0sInN1YiI6ImFjY2Vzc190b2tlbiIsImF0X2hhc2giOiJnQUFBQUFCbHNNVlBsYm5mOXR2THhpdEdnUUpEeWRZVkJwcl9veXlRVnJndTk1d3A1amNjbk43TllYTV8xeFBRTlk5aWRUQS1LVXZXaWgzU2I4VVVDb3NMUUUwTmNPa0JCLTNoSTR6aWZxbExCMjFrOUlGeDhQaz0iLCJkaXNwbGF5X25hbWUiOiJBS1NIQVkgUk9ISURBUyBSQVRIT0QiLCJvbXMiOiJLMSIsImhzbV9rZXkiOiI3OTY0MmJiNTI1MDZlYjhiZDM2MTZmNmYwZjUzZjM1YWRmMDViMTdhNDJhYWI2MGM1OGQ2N2Y0NiIsImZ5X2lkIjoiWEE1ODYwMCIsImFwcFR5cGUiOjEwMCwicG9hX2ZsYWciOiJOIn0.qwrl5dQpr7RJez5JWKHE3QjOJLf27rRuTceZqKqpuBA'"
      ]
     },
     "execution_count": 61,
     "metadata": {},
     "output_type": "execute_result"
    }
   ],
   "source": [
    "access_tokan"
   ]
  },
  {
   "cell_type": "code",
   "execution_count": 62,
   "metadata": {},
   "outputs": [
    {
     "data": {
      "text/plain": [
       "'JB7H9N3X9D-100'"
      ]
     },
     "execution_count": 62,
     "metadata": {},
     "output_type": "execute_result"
    }
   ],
   "source": [
    "client_id"
   ]
  },
  {
   "cell_type": "code",
   "execution_count": 63,
   "metadata": {},
   "outputs": [
    {
     "name": "stdout",
     "output_type": "stream",
     "text": [
      "funds\n",
      "[{'id': 1, 'title': 'Total Balance', 'equityAmount': 999.96, 'commodityAmount': 0}, {'id': 2, 'title': 'Utilized Amount', 'equityAmount': 0, 'commodityAmount': 0}, {'id': 3, 'title': 'Clear Balance', 'equityAmount': 999.96, 'commodityAmount': 0}, {'id': 4, 'title': 'Realized Profit and Loss', 'equityAmount': 0, 'commodityAmount': 0}, {'id': 5, 'title': 'Collaterals', 'equityAmount': 0, 'commodityAmount': 0}, {'id': 6, 'title': 'Fund Transfer', 'equityAmount': 0, 'commodityAmount': 0}, {'id': 7, 'title': 'Receivables', 'equityAmount': 0, 'commodityAmount': 0}, {'id': 8, 'title': 'Adhoc Limit', 'equityAmount': 0, 'commodityAmount': 0}, {'id': 9, 'title': 'Limit at start of the day', 'equityAmount': 999.96, 'commodityAmount': 0}, {'id': 10, 'title': 'Available Balance', 'equityAmount': 999.96, 'commodityAmount': 0}]\n"
     ]
    }
   ],
   "source": [
    "    # funds api\n",
    "print(\"funds\")\n",
    "funds = funds_info(client_id, access_tokan)\n",
    "print(funds)"
   ]
  },
  {
   "cell_type": "code",
   "execution_count": null,
   "metadata": {},
   "outputs": [],
   "source": [
    "data = {\n",
    "         \"symbol\":\"NSE:TCS-EQ\",\n",
    "         \"qty\":1,\n",
    "         \"type\":2, #limit order\n",
    "         \"side\":1, # 1 buy -1 sell\n",
    "         \"productType\":\"BO\",\n",
    "         \"limitPrice\":0,\n",
    "         \"stopPrice\":0,\n",
    "         \"validity\":\"DAY\",\n",
    "         \"disclosedQty\":0,\n",
    "         \"offlineOrder\":\"False\",\n",
    "        \"stopLoss\":2,\n",
    "        \"takeProfit\":2\n",
    "}"
   ]
  },
  {
   "cell_type": "code",
   "execution_count": 64,
   "metadata": {},
   "outputs": [],
   "source": [
    "from fyers_apiv3 import fyersModel\n"
   ]
  },
  {
   "cell_type": "code",
   "execution_count": 65,
   "metadata": {},
   "outputs": [],
   "source": [
    "fyers = fyersModel.FyersModel(client_id=client_id, token=access_tokan,is_async=False, log_path=\"\")\n"
   ]
  },
  {
   "cell_type": "code",
   "execution_count": null,
   "metadata": {},
   "outputs": [],
   "source": []
  },
  {
   "cell_type": "code",
   "execution_count": 66,
   "metadata": {},
   "outputs": [],
   "source": [
    "data = {\n",
    "         \"symbol\":\"NSE:SBIN-EQ\",\n",
    "         \"qty\":1,\n",
    "         \"type\":1, \n",
    "         \"side\":1, \n",
    "         \"productType\":\"BO\",\n",
    "         \"limitPrice\":613.50,\n",
    "         \"stopPrice\":0,\n",
    "         \"validity\":\"DAY\",\n",
    "         \"disclosedQty\":0,\n",
    "         \"offlineOrder\":False,\n",
    "        \"stopLoss\":5,\n",
    "        \"takeProfit\":5\n",
    "}\n"
   ]
  },
  {
   "cell_type": "code",
   "execution_count": 67,
   "metadata": {},
   "outputs": [],
   "source": [
    "response = fyers.place_order(data=data)\n"
   ]
  },
  {
   "cell_type": "code",
   "execution_count": 68,
   "metadata": {},
   "outputs": [
    {
     "name": "stdout",
     "output_type": "stream",
     "text": [
      "{'code': 1101, 'message': 'Successfully placed order', 's': 'ok', 'id': '24012400397618'}\n"
     ]
    }
   ],
   "source": [
    "print(response)"
   ]
  },
  {
   "cell_type": "code",
   "execution_count": 69,
   "metadata": {},
   "outputs": [],
   "source": [
    "from fyers_api_algo.order_data import get_order_data"
   ]
  },
  {
   "cell_type": "code",
   "execution_count": 70,
   "metadata": {},
   "outputs": [
    {
     "name": "stdout",
     "output_type": "stream",
     "text": [
      "orderBook\n",
      "[{'clientId': 'XA58600', 'exchange': 10, 'fyToken': '10100000003045', 'id': '24012400397619-BO-2', 'instrument': 0, 'offlineOrder': False, 'source': 'SNO', 'status': 6, 'type': 4, 'pan': 'CGQPR9204M', 'limitPrice': 602.25, 'productType': 'BO', 'qty': 1, 'disclosedQty': 0, 'remainingQuantity': 1, 'segment': 10, 'symbol': 'NSE:SBIN-EQ', 'description': 'STATE BANK OF INDIA', 'ex_sym': 'SBIN', 'orderDateTime': '24-Jan-2024 13:41:43', 'side': -1, 'orderValidity': 'DAY', 'stopPrice': 608.4, 'tradedPrice': 0, 'filledQty': 0, 'exchOrdId': '1300000039497981', 'message': '', 'ch': 8.5, 'chp': 1.40472649148901, 'lp': 613.6, 'orderNumStatus': '24012400397619-BO-2:6', 'slNo': 1, 'parentId': '24012400397618-BO-1', 'orderTag': ''}, {'clientId': 'XA58600', 'exchange': 10, 'fyToken': '10100000003045', 'id': '24012400397618-BO-1', 'instrument': 0, 'offlineOrder': False, 'source': 'API', 'status': 2, 'type': 1, 'pan': 'CGQPR9204M', 'limitPrice': 613.5, 'productType': 'BO', 'qty': 1, 'disclosedQty': 0, 'remainingQuantity': 0, 'segment': 10, 'symbol': 'NSE:SBIN-EQ', 'description': 'STATE BANK OF INDIA', 'ex_sym': 'SBIN', 'orderDateTime': '24-Jan-2024 13:41:43', 'side': 1, 'orderValidity': 'DAY', 'stopPrice': 0, 'tradedPrice': 613.4, 'filledQty': 1, 'exchOrdId': '1300000039497980', 'message': '', 'ch': 8.5, 'chp': 1.40472649148901, 'lp': 613.6, 'orderNumStatus': '24012400397618-BO-1:2', 'slNo': 2, 'orderTag': '2:Untagged'}, {'clientId': 'XA58600', 'exchange': 10, 'fyToken': '10100000003045', 'id': '24012400397620-BO-3', 'instrument': 0, 'offlineOrder': False, 'source': 'SNO', 'status': 6, 'type': 1, 'pan': 'CGQPR9204M', 'limitPrice': 618.4, 'productType': 'BO', 'qty': 1, 'disclosedQty': 0, 'remainingQuantity': 1, 'segment': 10, 'symbol': 'NSE:SBIN-EQ', 'description': 'STATE BANK OF INDIA', 'ex_sym': 'SBIN', 'orderDateTime': '24-Jan-2024 13:41:43', 'side': -1, 'orderValidity': 'DAY', 'stopPrice': 0, 'tradedPrice': 0, 'filledQty': 0, 'exchOrdId': '1300000039497982', 'message': '', 'ch': 8.5, 'chp': 1.40472649148901, 'lp': 613.6, 'orderNumStatus': '24012400397620-BO-3:6', 'slNo': 3, 'parentId': '24012400397618-BO-1', 'orderTag': ''}]\n"
     ]
    }
   ],
   "source": [
    "print(\"orderBook\")\n",
    "orders = get_order_data(client_id, access_tokan)\n",
    "print(orders)"
   ]
  },
  {
   "cell_type": "code",
   "execution_count": 71,
   "metadata": {},
   "outputs": [
    {
     "data": {
      "text/plain": [
       "[{'clientId': 'XA58600',\n",
       "  'exchange': 10,\n",
       "  'fyToken': '10100000003045',\n",
       "  'id': '24012400397619-BO-2',\n",
       "  'instrument': 0,\n",
       "  'offlineOrder': False,\n",
       "  'source': 'SNO',\n",
       "  'status': 6,\n",
       "  'type': 4,\n",
       "  'pan': 'CGQPR9204M',\n",
       "  'limitPrice': 602.25,\n",
       "  'productType': 'BO',\n",
       "  'qty': 1,\n",
       "  'disclosedQty': 0,\n",
       "  'remainingQuantity': 1,\n",
       "  'segment': 10,\n",
       "  'symbol': 'NSE:SBIN-EQ',\n",
       "  'description': 'STATE BANK OF INDIA',\n",
       "  'ex_sym': 'SBIN',\n",
       "  'orderDateTime': '24-Jan-2024 13:41:43',\n",
       "  'side': -1,\n",
       "  'orderValidity': 'DAY',\n",
       "  'stopPrice': 608.4,\n",
       "  'tradedPrice': 0,\n",
       "  'filledQty': 0,\n",
       "  'exchOrdId': '1300000039497981',\n",
       "  'message': '',\n",
       "  'ch': 8.5,\n",
       "  'chp': 1.40472649148901,\n",
       "  'lp': 613.6,\n",
       "  'orderNumStatus': '24012400397619-BO-2:6',\n",
       "  'slNo': 1,\n",
       "  'parentId': '24012400397618-BO-1',\n",
       "  'orderTag': ''},\n",
       " {'clientId': 'XA58600',\n",
       "  'exchange': 10,\n",
       "  'fyToken': '10100000003045',\n",
       "  'id': '24012400397618-BO-1',\n",
       "  'instrument': 0,\n",
       "  'offlineOrder': False,\n",
       "  'source': 'API',\n",
       "  'status': 2,\n",
       "  'type': 1,\n",
       "  'pan': 'CGQPR9204M',\n",
       "  'limitPrice': 613.5,\n",
       "  'productType': 'BO',\n",
       "  'qty': 1,\n",
       "  'disclosedQty': 0,\n",
       "  'remainingQuantity': 0,\n",
       "  'segment': 10,\n",
       "  'symbol': 'NSE:SBIN-EQ',\n",
       "  'description': 'STATE BANK OF INDIA',\n",
       "  'ex_sym': 'SBIN',\n",
       "  'orderDateTime': '24-Jan-2024 13:41:43',\n",
       "  'side': 1,\n",
       "  'orderValidity': 'DAY',\n",
       "  'stopPrice': 0,\n",
       "  'tradedPrice': 613.4,\n",
       "  'filledQty': 1,\n",
       "  'exchOrdId': '1300000039497980',\n",
       "  'message': '',\n",
       "  'ch': 8.5,\n",
       "  'chp': 1.40472649148901,\n",
       "  'lp': 613.6,\n",
       "  'orderNumStatus': '24012400397618-BO-1:2',\n",
       "  'slNo': 2,\n",
       "  'orderTag': '2:Untagged'},\n",
       " {'clientId': 'XA58600',\n",
       "  'exchange': 10,\n",
       "  'fyToken': '10100000003045',\n",
       "  'id': '24012400397620-BO-3',\n",
       "  'instrument': 0,\n",
       "  'offlineOrder': False,\n",
       "  'source': 'SNO',\n",
       "  'status': 6,\n",
       "  'type': 1,\n",
       "  'pan': 'CGQPR9204M',\n",
       "  'limitPrice': 618.4,\n",
       "  'productType': 'BO',\n",
       "  'qty': 1,\n",
       "  'disclosedQty': 0,\n",
       "  'remainingQuantity': 1,\n",
       "  'segment': 10,\n",
       "  'symbol': 'NSE:SBIN-EQ',\n",
       "  'description': 'STATE BANK OF INDIA',\n",
       "  'ex_sym': 'SBIN',\n",
       "  'orderDateTime': '24-Jan-2024 13:41:43',\n",
       "  'side': -1,\n",
       "  'orderValidity': 'DAY',\n",
       "  'stopPrice': 0,\n",
       "  'tradedPrice': 0,\n",
       "  'filledQty': 0,\n",
       "  'exchOrdId': '1300000039497982',\n",
       "  'message': '',\n",
       "  'ch': 8.5,\n",
       "  'chp': 1.40472649148901,\n",
       "  'lp': 613.6,\n",
       "  'orderNumStatus': '24012400397620-BO-3:6',\n",
       "  'slNo': 3,\n",
       "  'parentId': '24012400397618-BO-1',\n",
       "  'orderTag': ''}]"
      ]
     },
     "execution_count": 71,
     "metadata": {},
     "output_type": "execute_result"
    }
   ],
   "source": [
    "orders"
   ]
  },
  {
   "cell_type": "code",
   "execution_count": 78,
   "metadata": {},
   "outputs": [
    {
     "name": "stdout",
     "output_type": "stream",
     "text": [
      "{'code': 1102, 'message': 'Successfully modified order', 's': 'ok', 'id': '24012400397619'}\n"
     ]
    }
   ],
   "source": [
    "    # \"limitPrice\": 610, \n",
    "\n",
    "data = {\n",
    "    \"id\":\"24012400397619-BO-2\", \n",
    "    \"type\":3, \n",
    "    \"stopPrice\":610\n",
    "}\n",
    "\n",
    "response = fyers.modify_order(data=data)\n",
    "print(response)"
   ]
  },
  {
   "cell_type": "code",
   "execution_count": 80,
   "metadata": {},
   "outputs": [
    {
     "name": "stdout",
     "output_type": "stream",
     "text": [
      "orderBook\n",
      "[{'clientId': 'XA58600', 'exchange': 10, 'fyToken': '10100000003045', 'id': '24012400397618-BO-1', 'instrument': 0, 'offlineOrder': False, 'source': 'API', 'status': 2, 'type': 1, 'pan': 'CGQPR9204M', 'limitPrice': 613.5, 'productType': 'BO', 'qty': 1, 'disclosedQty': 0, 'remainingQuantity': 0, 'segment': 10, 'symbol': 'NSE:SBIN-EQ', 'description': 'STATE BANK OF INDIA', 'ex_sym': 'SBIN', 'orderDateTime': '24-Jan-2024 13:41:43', 'side': 1, 'orderValidity': 'DAY', 'stopPrice': 0, 'tradedPrice': 613.4, 'filledQty': 1, 'exchOrdId': '1300000039497980', 'message': '', 'ch': 6.9, 'chp': 1.140307387208726, 'lp': 612, 'orderNumStatus': '24012400397618-BO-1:2', 'slNo': 1, 'orderTag': '2:Untagged'}, {'clientId': 'XA58600', 'exchange': 10, 'fyToken': '10100000003045', 'id': '24012400397620-BO-3', 'instrument': 0, 'offlineOrder': False, 'source': 'SNO', 'status': 6, 'type': 1, 'pan': 'CGQPR9204M', 'limitPrice': 618.4, 'productType': 'BO', 'qty': 1, 'disclosedQty': 0, 'remainingQuantity': 1, 'segment': 10, 'symbol': 'NSE:SBIN-EQ', 'description': 'STATE BANK OF INDIA', 'ex_sym': 'SBIN', 'orderDateTime': '24-Jan-2024 13:41:43', 'side': -1, 'orderValidity': 'DAY', 'stopPrice': 0, 'tradedPrice': 0, 'filledQty': 0, 'exchOrdId': '1300000039497982', 'message': '', 'ch': 6.9, 'chp': 1.140307387208726, 'lp': 612, 'orderNumStatus': '24012400397620-BO-3:6', 'slNo': 2, 'parentId': '24012400397618-BO-1', 'orderTag': ''}, {'clientId': 'XA58600', 'exchange': 10, 'fyToken': '10100000003045', 'id': '24012400397619-BO-2', 'instrument': 0, 'offlineOrder': False, 'source': 'API', 'status': 6, 'type': 3, 'pan': 'CGQPR9204M', 'limitPrice': 0, 'productType': 'BO', 'qty': 1, 'disclosedQty': 0, 'remainingQuantity': 1, 'segment': 10, 'symbol': 'NSE:SBIN-EQ', 'description': 'STATE BANK OF INDIA', 'ex_sym': 'SBIN', 'orderDateTime': '24-Jan-2024 13:55:35', 'side': -1, 'orderValidity': 'DAY', 'stopPrice': 610, 'tradedPrice': 0, 'filledQty': 0, 'exchOrdId': '1300000039497981', 'message': '', 'ch': 6.9, 'chp': 1.140307387208726, 'lp': 612, 'orderNumStatus': '24012400397619-BO-2:6', 'slNo': 3, 'parentId': '24012400397618-BO-1', 'orderTag': ''}]\n"
     ]
    }
   ],
   "source": [
    "print(\"orderBook\")\n",
    "orders = get_order_data(client_id, access_tokan)\n",
    "print(orders)"
   ]
  },
  {
   "cell_type": "code",
   "execution_count": 81,
   "metadata": {},
   "outputs": [
    {
     "data": {
      "text/plain": [
       "[{'clientId': 'XA58600',\n",
       "  'exchange': 10,\n",
       "  'fyToken': '10100000003045',\n",
       "  'id': '24012400397618-BO-1',\n",
       "  'instrument': 0,\n",
       "  'offlineOrder': False,\n",
       "  'source': 'API',\n",
       "  'status': 2,\n",
       "  'type': 1,\n",
       "  'pan': 'CGQPR9204M',\n",
       "  'limitPrice': 613.5,\n",
       "  'productType': 'BO',\n",
       "  'qty': 1,\n",
       "  'disclosedQty': 0,\n",
       "  'remainingQuantity': 0,\n",
       "  'segment': 10,\n",
       "  'symbol': 'NSE:SBIN-EQ',\n",
       "  'description': 'STATE BANK OF INDIA',\n",
       "  'ex_sym': 'SBIN',\n",
       "  'orderDateTime': '24-Jan-2024 13:41:43',\n",
       "  'side': 1,\n",
       "  'orderValidity': 'DAY',\n",
       "  'stopPrice': 0,\n",
       "  'tradedPrice': 613.4,\n",
       "  'filledQty': 1,\n",
       "  'exchOrdId': '1300000039497980',\n",
       "  'message': '',\n",
       "  'ch': 6.9,\n",
       "  'chp': 1.140307387208726,\n",
       "  'lp': 612,\n",
       "  'orderNumStatus': '24012400397618-BO-1:2',\n",
       "  'slNo': 1,\n",
       "  'orderTag': '2:Untagged'},\n",
       " {'clientId': 'XA58600',\n",
       "  'exchange': 10,\n",
       "  'fyToken': '10100000003045',\n",
       "  'id': '24012400397620-BO-3',\n",
       "  'instrument': 0,\n",
       "  'offlineOrder': False,\n",
       "  'source': 'SNO',\n",
       "  'status': 6,\n",
       "  'type': 1,\n",
       "  'pan': 'CGQPR9204M',\n",
       "  'limitPrice': 618.4,\n",
       "  'productType': 'BO',\n",
       "  'qty': 1,\n",
       "  'disclosedQty': 0,\n",
       "  'remainingQuantity': 1,\n",
       "  'segment': 10,\n",
       "  'symbol': 'NSE:SBIN-EQ',\n",
       "  'description': 'STATE BANK OF INDIA',\n",
       "  'ex_sym': 'SBIN',\n",
       "  'orderDateTime': '24-Jan-2024 13:41:43',\n",
       "  'side': -1,\n",
       "  'orderValidity': 'DAY',\n",
       "  'stopPrice': 0,\n",
       "  'tradedPrice': 0,\n",
       "  'filledQty': 0,\n",
       "  'exchOrdId': '1300000039497982',\n",
       "  'message': '',\n",
       "  'ch': 6.9,\n",
       "  'chp': 1.140307387208726,\n",
       "  'lp': 612,\n",
       "  'orderNumStatus': '24012400397620-BO-3:6',\n",
       "  'slNo': 2,\n",
       "  'parentId': '24012400397618-BO-1',\n",
       "  'orderTag': ''},\n",
       " {'clientId': 'XA58600',\n",
       "  'exchange': 10,\n",
       "  'fyToken': '10100000003045',\n",
       "  'id': '24012400397619-BO-2',\n",
       "  'instrument': 0,\n",
       "  'offlineOrder': False,\n",
       "  'source': 'API',\n",
       "  'status': 6,\n",
       "  'type': 3,\n",
       "  'pan': 'CGQPR9204M',\n",
       "  'limitPrice': 0,\n",
       "  'productType': 'BO',\n",
       "  'qty': 1,\n",
       "  'disclosedQty': 0,\n",
       "  'remainingQuantity': 1,\n",
       "  'segment': 10,\n",
       "  'symbol': 'NSE:SBIN-EQ',\n",
       "  'description': 'STATE BANK OF INDIA',\n",
       "  'ex_sym': 'SBIN',\n",
       "  'orderDateTime': '24-Jan-2024 13:55:35',\n",
       "  'side': -1,\n",
       "  'orderValidity': 'DAY',\n",
       "  'stopPrice': 610,\n",
       "  'tradedPrice': 0,\n",
       "  'filledQty': 0,\n",
       "  'exchOrdId': '1300000039497981',\n",
       "  'message': '',\n",
       "  'ch': 6.9,\n",
       "  'chp': 1.140307387208726,\n",
       "  'lp': 612,\n",
       "  'orderNumStatus': '24012400397619-BO-2:6',\n",
       "  'slNo': 3,\n",
       "  'parentId': '24012400397618-BO-1',\n",
       "  'orderTag': ''}]"
      ]
     },
     "execution_count": 81,
     "metadata": {},
     "output_type": "execute_result"
    }
   ],
   "source": [
    "orders"
   ]
  },
  {
   "cell_type": "code",
   "execution_count": 83,
   "metadata": {},
   "outputs": [
    {
     "name": "stdout",
     "output_type": "stream",
     "text": [
      "{'code': 1102, 'message': 'Successfully modified order', 's': 'ok', 'id': '24012400397620'}\n"
     ]
    }
   ],
   "source": [
    "    # \"limitPrice\": 610, \n",
    "\n",
    "data = {\n",
    "    \"id\":\"24012400397620-BO-3\", \n",
    "    \"type\":1, \n",
    "    \"limitPrice\":617\n",
    "}\n",
    "\n",
    "response = fyers.modify_order(data=data)\n",
    "print(response)"
   ]
  },
  {
   "cell_type": "code",
   "execution_count": 84,
   "metadata": {},
   "outputs": [
    {
     "name": "stdout",
     "output_type": "stream",
     "text": [
      "orderBook\n",
      "[{'clientId': 'XA58600', 'exchange': 10, 'fyToken': '10100000003045', 'id': '24012400397618-BO-1', 'instrument': 0, 'offlineOrder': False, 'source': 'API', 'status': 2, 'type': 1, 'pan': 'CGQPR9204M', 'limitPrice': 613.5, 'productType': 'BO', 'qty': 1, 'disclosedQty': 0, 'remainingQuantity': 0, 'segment': 10, 'symbol': 'NSE:SBIN-EQ', 'description': 'STATE BANK OF INDIA', 'ex_sym': 'SBIN', 'orderDateTime': '24-Jan-2024 13:41:43', 'side': 1, 'orderValidity': 'DAY', 'stopPrice': 0, 'tradedPrice': 613.4, 'filledQty': 1, 'exchOrdId': '1300000039497980', 'message': '', 'ch': 7.1, 'chp': 1.1733597752437614, 'lp': 612.2, 'orderNumStatus': '24012400397618-BO-1:2', 'slNo': 1, 'orderTag': '2:Untagged'}, {'clientId': 'XA58600', 'exchange': 10, 'fyToken': '10100000003045', 'id': '24012400397619-BO-2', 'instrument': 0, 'offlineOrder': False, 'source': 'API', 'status': 6, 'type': 3, 'pan': 'CGQPR9204M', 'limitPrice': 0, 'productType': 'BO', 'qty': 1, 'disclosedQty': 0, 'remainingQuantity': 1, 'segment': 10, 'symbol': 'NSE:SBIN-EQ', 'description': 'STATE BANK OF INDIA', 'ex_sym': 'SBIN', 'orderDateTime': '24-Jan-2024 13:55:35', 'side': -1, 'orderValidity': 'DAY', 'stopPrice': 610, 'tradedPrice': 0, 'filledQty': 0, 'exchOrdId': '1300000039497981', 'message': '', 'ch': 7.1, 'chp': 1.1733597752437614, 'lp': 612.2, 'orderNumStatus': '24012400397619-BO-2:6', 'slNo': 2, 'parentId': '24012400397618-BO-1', 'orderTag': ''}, {'clientId': 'XA58600', 'exchange': 10, 'fyToken': '10100000003045', 'id': '24012400397620-BO-3', 'instrument': 0, 'offlineOrder': False, 'source': 'API', 'status': 6, 'type': 1, 'pan': 'CGQPR9204M', 'limitPrice': 617, 'productType': 'BO', 'qty': 1, 'disclosedQty': 0, 'remainingQuantity': 1, 'segment': 10, 'symbol': 'NSE:SBIN-EQ', 'description': 'STATE BANK OF INDIA', 'ex_sym': 'SBIN', 'orderDateTime': '24-Jan-2024 13:59:43', 'side': -1, 'orderValidity': 'DAY', 'stopPrice': 0, 'tradedPrice': 0, 'filledQty': 0, 'exchOrdId': '1300000039497982', 'message': '', 'ch': 7.1, 'chp': 1.1733597752437614, 'lp': 612.2, 'orderNumStatus': '24012400397620-BO-3:6', 'slNo': 3, 'parentId': '24012400397618-BO-1', 'orderTag': ''}]\n"
     ]
    }
   ],
   "source": [
    "print(\"orderBook\")\n",
    "orders = get_order_data(client_id, access_tokan)\n",
    "print(orders)"
   ]
  },
  {
   "cell_type": "code",
   "execution_count": 85,
   "metadata": {},
   "outputs": [
    {
     "data": {
      "text/plain": [
       "[{'clientId': 'XA58600',\n",
       "  'exchange': 10,\n",
       "  'fyToken': '10100000003045',\n",
       "  'id': '24012400397618-BO-1',\n",
       "  'instrument': 0,\n",
       "  'offlineOrder': False,\n",
       "  'source': 'API',\n",
       "  'status': 2,\n",
       "  'type': 1,\n",
       "  'pan': 'CGQPR9204M',\n",
       "  'limitPrice': 613.5,\n",
       "  'productType': 'BO',\n",
       "  'qty': 1,\n",
       "  'disclosedQty': 0,\n",
       "  'remainingQuantity': 0,\n",
       "  'segment': 10,\n",
       "  'symbol': 'NSE:SBIN-EQ',\n",
       "  'description': 'STATE BANK OF INDIA',\n",
       "  'ex_sym': 'SBIN',\n",
       "  'orderDateTime': '24-Jan-2024 13:41:43',\n",
       "  'side': 1,\n",
       "  'orderValidity': 'DAY',\n",
       "  'stopPrice': 0,\n",
       "  'tradedPrice': 613.4,\n",
       "  'filledQty': 1,\n",
       "  'exchOrdId': '1300000039497980',\n",
       "  'message': '',\n",
       "  'ch': 7.1,\n",
       "  'chp': 1.1733597752437614,\n",
       "  'lp': 612.2,\n",
       "  'orderNumStatus': '24012400397618-BO-1:2',\n",
       "  'slNo': 1,\n",
       "  'orderTag': '2:Untagged'},\n",
       " {'clientId': 'XA58600',\n",
       "  'exchange': 10,\n",
       "  'fyToken': '10100000003045',\n",
       "  'id': '24012400397619-BO-2',\n",
       "  'instrument': 0,\n",
       "  'offlineOrder': False,\n",
       "  'source': 'API',\n",
       "  'status': 6,\n",
       "  'type': 3,\n",
       "  'pan': 'CGQPR9204M',\n",
       "  'limitPrice': 0,\n",
       "  'productType': 'BO',\n",
       "  'qty': 1,\n",
       "  'disclosedQty': 0,\n",
       "  'remainingQuantity': 1,\n",
       "  'segment': 10,\n",
       "  'symbol': 'NSE:SBIN-EQ',\n",
       "  'description': 'STATE BANK OF INDIA',\n",
       "  'ex_sym': 'SBIN',\n",
       "  'orderDateTime': '24-Jan-2024 13:55:35',\n",
       "  'side': -1,\n",
       "  'orderValidity': 'DAY',\n",
       "  'stopPrice': 610,\n",
       "  'tradedPrice': 0,\n",
       "  'filledQty': 0,\n",
       "  'exchOrdId': '1300000039497981',\n",
       "  'message': '',\n",
       "  'ch': 7.1,\n",
       "  'chp': 1.1733597752437614,\n",
       "  'lp': 612.2,\n",
       "  'orderNumStatus': '24012400397619-BO-2:6',\n",
       "  'slNo': 2,\n",
       "  'parentId': '24012400397618-BO-1',\n",
       "  'orderTag': ''},\n",
       " {'clientId': 'XA58600',\n",
       "  'exchange': 10,\n",
       "  'fyToken': '10100000003045',\n",
       "  'id': '24012400397620-BO-3',\n",
       "  'instrument': 0,\n",
       "  'offlineOrder': False,\n",
       "  'source': 'API',\n",
       "  'status': 6,\n",
       "  'type': 1,\n",
       "  'pan': 'CGQPR9204M',\n",
       "  'limitPrice': 617,\n",
       "  'productType': 'BO',\n",
       "  'qty': 1,\n",
       "  'disclosedQty': 0,\n",
       "  'remainingQuantity': 1,\n",
       "  'segment': 10,\n",
       "  'symbol': 'NSE:SBIN-EQ',\n",
       "  'description': 'STATE BANK OF INDIA',\n",
       "  'ex_sym': 'SBIN',\n",
       "  'orderDateTime': '24-Jan-2024 13:59:43',\n",
       "  'side': -1,\n",
       "  'orderValidity': 'DAY',\n",
       "  'stopPrice': 0,\n",
       "  'tradedPrice': 0,\n",
       "  'filledQty': 0,\n",
       "  'exchOrdId': '1300000039497982',\n",
       "  'message': '',\n",
       "  'ch': 7.1,\n",
       "  'chp': 1.1733597752437614,\n",
       "  'lp': 612.2,\n",
       "  'orderNumStatus': '24012400397620-BO-3:6',\n",
       "  'slNo': 3,\n",
       "  'parentId': '24012400397618-BO-1',\n",
       "  'orderTag': ''}]"
      ]
     },
     "execution_count": 85,
     "metadata": {},
     "output_type": "execute_result"
    }
   ],
   "source": [
    "orders"
   ]
  },
  {
   "cell_type": "code",
   "execution_count": null,
   "metadata": {},
   "outputs": [],
   "source": []
  },
  {
   "cell_type": "code",
   "execution_count": 94,
   "metadata": {},
   "outputs": [],
   "source": [
    "import time"
   ]
  },
  {
   "cell_type": "code",
   "execution_count": 95,
   "metadata": {},
   "outputs": [],
   "source": [
    "from fyers_api_algo.market_data import get_market_history_data"
   ]
  },
  {
   "cell_type": "code",
   "execution_count": 96,
   "metadata": {},
   "outputs": [],
   "source": [
    "ticker_list = [\"NSE:SBIN-EQ\", \"NSE:TCS-EQ\",\"NSE:ICICIBANK-EQ\",\"NSE:TATASTEEL-EQ\",\"NSE:TITAN-EQ\"]"
   ]
  },
  {
   "cell_type": "code",
   "execution_count": 97,
   "metadata": {},
   "outputs": [],
   "source": [
    "t0 = time.time()\n",
    "responses = []\n",
    "\n",
    "for ticker in ticker_list:\n",
    "    data = {\n",
    "    \"symbol\": ticker,\n",
    "    \"resolution\": \"15\",\n",
    "    \"date_format\": \"1\",\n",
    "    \"range_from\": \"2024-01-24\",\n",
    "    \"range_to\": \"2024-01-24\",\n",
    "    \"cont_flag\": \"1\"\n",
    "    }\n",
    "    response = fyers.history(data)\n",
    "    res = response[\"candles\"][-1]\n",
    "    responses.append(res)\n",
    "    time.sleep(0.15)\n",
    "\n",
    "t1 = time.time()\n",
    "    "
   ]
  },
  {
   "cell_type": "code",
   "execution_count": 98,
   "metadata": {},
   "outputs": [
    {
     "data": {
      "text/plain": [
       "1.1362676620483398"
      ]
     },
     "execution_count": 98,
     "metadata": {},
     "output_type": "execute_result"
    }
   ],
   "source": [
    "timedelta = t1-t0\n",
    "timedelta"
   ]
  },
  {
   "cell_type": "code",
   "execution_count": 99,
   "metadata": {},
   "outputs": [
    {
     "data": {
      "text/plain": [
       "[[1706085000, 612, 614.8, 612, 613.65, 321545],\n",
       " [1706085000, 3819.4, 3823.45, 3816.6, 3822.1, 112440],\n",
       " [1706085000, 997.95, 1001.95, 997.7, 998, 2058723],\n",
       " [1706085000, 134.45, 135.1, 134.35, 135.05, 2743729],\n",
       " [1706085000, 3734.65, 3736.8, 3727.2, 3735.45, 19177]]"
      ]
     },
     "execution_count": 99,
     "metadata": {},
     "output_type": "execute_result"
    }
   ],
   "source": [
    "responses"
   ]
  },
  {
   "cell_type": "code",
   "execution_count": null,
   "metadata": {},
   "outputs": [],
   "source": []
  },
  {
   "cell_type": "code",
   "execution_count": null,
   "metadata": {},
   "outputs": [],
   "source": []
  },
  {
   "cell_type": "code",
   "execution_count": null,
   "metadata": {},
   "outputs": [],
   "source": []
  },
  {
   "cell_type": "code",
   "execution_count": null,
   "metadata": {},
   "outputs": [],
   "source": []
  },
  {
   "cell_type": "code",
   "execution_count": null,
   "metadata": {},
   "outputs": [],
   "source": []
  },
  {
   "cell_type": "code",
   "execution_count": null,
   "metadata": {},
   "outputs": [],
   "source": []
  },
  {
   "cell_type": "code",
   "execution_count": null,
   "metadata": {},
   "outputs": [],
   "source": []
  },
  {
   "cell_type": "code",
   "execution_count": null,
   "metadata": {},
   "outputs": [],
   "source": []
  },
  {
   "cell_type": "code",
   "execution_count": null,
   "metadata": {},
   "outputs": [],
   "source": []
  },
  {
   "cell_type": "code",
   "execution_count": null,
   "metadata": {},
   "outputs": [],
   "source": []
  },
  {
   "cell_type": "code",
   "execution_count": null,
   "metadata": {},
   "outputs": [],
   "source": []
  },
  {
   "cell_type": "code",
   "execution_count": null,
   "metadata": {},
   "outputs": [],
   "source": []
  },
  {
   "cell_type": "code",
   "execution_count": null,
   "metadata": {},
   "outputs": [],
   "source": []
  },
  {
   "cell_type": "code",
   "execution_count": null,
   "metadata": {},
   "outputs": [],
   "source": []
  },
  {
   "cell_type": "code",
   "execution_count": null,
   "metadata": {},
   "outputs": [],
   "source": []
  },
  {
   "cell_type": "code",
   "execution_count": null,
   "metadata": {},
   "outputs": [],
   "source": []
  },
  {
   "cell_type": "code",
   "execution_count": null,
   "metadata": {},
   "outputs": [],
   "source": []
  },
  {
   "cell_type": "code",
   "execution_count": null,
   "metadata": {},
   "outputs": [],
   "source": []
  },
  {
   "cell_type": "code",
   "execution_count": null,
   "metadata": {},
   "outputs": [],
   "source": []
  },
  {
   "cell_type": "code",
   "execution_count": null,
   "metadata": {},
   "outputs": [],
   "source": []
  },
  {
   "cell_type": "code",
   "execution_count": null,
   "metadata": {},
   "outputs": [],
   "source": []
  },
  {
   "cell_type": "code",
   "execution_count": null,
   "metadata": {},
   "outputs": [],
   "source": []
  },
  {
   "cell_type": "code",
   "execution_count": null,
   "metadata": {},
   "outputs": [],
   "source": []
  }
 ],
 "metadata": {
  "kernelspec": {
   "display_name": "venv",
   "language": "python",
   "name": "python3"
  },
  "language_info": {
   "codemirror_mode": {
    "name": "ipython",
    "version": 3
   },
   "file_extension": ".py",
   "mimetype": "text/x-python",
   "name": "python",
   "nbconvert_exporter": "python",
   "pygments_lexer": "ipython3",
   "version": "3.8.10"
  }
 },
 "nbformat": 4,
 "nbformat_minor": 2
}
